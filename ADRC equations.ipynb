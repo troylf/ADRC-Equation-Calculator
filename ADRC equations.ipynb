{
 "cells": [
  {
   "cell_type": "markdown",
   "metadata": {},
   "source": [
    "# ADRC Extended State Observer Equations\n",
    "\n",
    "Active Disturbance Rejection Control relies on the use of a Extended State Observer(ESO). This provides equations for a descrete time implementation of a ESO with a single extended state. This provides the equations using ZOH.\n",
    "\n",
    "This implementation is baised on:\n",
    "  * Herbst, G. A Simulative Study on Active Disturbance Rejection Control (ADRC) as a Control Tool for Practitioners. In Electronics, 2: 2013; pp. 246-279.\n",
    "  * Miklosovic, R.; Radke, A.; Gao, Z. Discrete Implementation and Generalization of the Extended State Observer. In Proceedings of the 2006 American Control Conference, Minneapolis,Minnesota, USA, 14–16 June 2006; pp. 2209–2214."
   ]
  },
  {
   "cell_type": "code",
   "execution_count": 150,
   "metadata": {
    "collapsed": false,
    "slideshow": {
     "slide_type": "-"
    }
   },
   "outputs": [],
   "source": [
    "from __future__ import division\n",
    "from IPython.display import display\n",
    "import math\n",
    "from sympy import *\n",
    "from sympy.interactive import printing"
   ]
  },
  {
   "cell_type": "markdown",
   "metadata": {},
   "source": [
    "## Settings:"
   ]
  },
  {
   "cell_type": "code",
   "execution_count": 151,
   "metadata": {
    "collapsed": true
   },
   "outputs": [],
   "source": [
    "# Uncomment below for LaTeX printing\n",
    "latex_install_location = \"C://Users//tfox//AppData//Local//Programs//MiKTeX 2.9//miktex//bin//\"\n",
    "printing.init_printing(use_latex='png')\n",
    "\n",
    "# Input the order of the system\n",
    "system_order = 1"
   ]
  },
  {
   "cell_type": "markdown",
   "metadata": {},
   "source": [
    "## Calculations:"
   ]
  },
  {
   "cell_type": "code",
   "execution_count": 152,
   "metadata": {
    "collapsed": true
   },
   "outputs": [],
   "source": [
    "# Uncomment below for LaTeX printing\n",
    "import os\n",
    "os.environ[\"PATH\"] += os.pathsep + latex_install_location"
   ]
  },
  {
   "cell_type": "code",
   "execution_count": 153,
   "metadata": {
    "collapsed": false
   },
   "outputs": [],
   "source": [
    "Tsample, Zeso, b0, u_prev, yk = symbols( 'T_s Z_eso b_0 u(k-1) y(k)' )"
   ]
  },
  {
   "cell_type": "code",
   "execution_count": 154,
   "metadata": {
    "collapsed": false
   },
   "outputs": [],
   "source": [
    "# Only the equations for a single extended state have been tested\n",
    "extended_states = 1\n",
    "size = system_order + extended_states\n",
    "A = zeros(size)\n",
    "for x in range(0, size-1):\n",
    "    temp = zeros(1,size)\n",
    "    temp[x+1] = 1\n",
    "    A[x,:] = temp\n",
    "Ad_calc = eye(size)\n",
    "for x in range(1,size):\n",
    "    Ad_calc += A**x*(Tsample**x)/math.factorial(x)\n",
    "#Ad_calc"
   ]
  },
  {
   "cell_type": "code",
   "execution_count": 155,
   "metadata": {
    "collapsed": false
   },
   "outputs": [],
   "source": [
    "B = zeros(size,1)\n",
    "B[size-extended_states-1, :] = Matrix([[b0]])\n",
    "\n",
    "temp_calc = zeros(size)\n",
    "for x in range(1,size):\n",
    "    temp_calc += (A**(x-1)*(Tsample**x)/math.factorial(x))\n",
    "Bd_calc = temp_calc*B\n",
    "#Bd_calc"
   ]
  },
  {
   "cell_type": "code",
   "execution_count": 156,
   "metadata": {
    "collapsed": false
   },
   "outputs": [],
   "source": [
    "Lc_calc = Matrix(symbols('l1:'+str(size+1)))\n",
    "#Lc_calc"
   ]
  },
  {
   "cell_type": "code",
   "execution_count": 157,
   "metadata": {
    "collapsed": false
   },
   "outputs": [],
   "source": [
    "Cd_calc = zeros(size,1).T\n",
    "Cd_calc[:,0] = Matrix([[1]])\n",
    "#Cd_calc"
   ]
  },
  {
   "cell_type": "code",
   "execution_count": 158,
   "metadata": {
    "collapsed": false
   },
   "outputs": [],
   "source": [
    "xp = Matrix(symbols('x_prev1:'+str(size+1)))\n",
    "#xp"
   ]
  },
  {
   "cell_type": "code",
   "execution_count": 159,
   "metadata": {
    "collapsed": false
   },
   "outputs": [],
   "source": [
    "xs = Matrix(symbols('x1:'+str(size+1)))\n",
    "xnext = Matrix(symbols('x_prediction1:'+str(size+1)))\n",
    "#xs"
   ]
  },
  {
   "cell_type": "markdown",
   "metadata": {},
   "source": [
    "## The equations -"
   ]
  },
  {
   "cell_type": "markdown",
   "metadata": {},
   "source": [
    "#### This is the prediction equation. Calculate this after the updating the previous control value:"
   ]
  },
  {
   "cell_type": "code",
   "execution_count": 160,
   "metadata": {
    "collapsed": false
   },
   "outputs": [
    {
     "data": {
      "image/png": "[encoded data removed]",
      "text/plain": [
       "⎡x_prediction1⎤ = ⎡u(k-1)⋅(-T_s⋅b₀⋅l₁ + T_s⋅b₀) + x_prev1⋅(-l₁ + 1) + x_prev2⋅\n",
       "⎢             ⎥   ⎢                                                           \n",
       "⎣x_prediction2⎦   ⎣          -T_s⋅b₀⋅l₂⋅u(k-1) - l₂⋅x_prev1 + x_prev2⋅(-T_s⋅l₂\n",
       "\n",
       "(-T_s⋅l₁ + T_s)⎤\n",
       "               ⎥\n",
       " + 1)          ⎦"
      ]
     },
     "execution_count": 160,
     "metadata": {},
     "output_type": "execute_result"
    }
   ],
   "source": [
    "prediction = (Ad_calc-Lc_calc*Cd_calc*Ad_calc)*xp + (Bd_calc-Lc_calc*Cd_calc*Bd_calc)*u_prev \n",
    "Eq(xnext, prediction)"
   ]
  },
  {
   "cell_type": "markdown",
   "metadata": {},
   "source": [
    "#### This is the correction equation. Add this between reading the value and updating the control:"
   ]
  },
  {
   "cell_type": "code",
   "execution_count": 161,
   "metadata": {
    "collapsed": false
   },
   "outputs": [
    {
     "data": {
      "image/png": "[encoded data removed]",
      "text/plain": [
       "⎡x₁⎤ = ⎡l₁⋅y(k) + x_prediction1⎤\n",
       "⎢  ⎥   ⎢                       ⎥\n",
       "⎣x₂⎦   ⎣l₂⋅y(k) + x_prediction2⎦"
      ]
     },
     "execution_count": 161,
     "metadata": {},
     "output_type": "execute_result"
    }
   ],
   "source": [
    "correction = xnext + Lc_calc*yk\n",
    "Eq(xs,correction)"
   ]
  },
  {
   "cell_type": "markdown",
   "metadata": {},
   "source": [
    "#### These are the L value equations. They can be calculated at compile time:"
   ]
  },
  {
   "cell_type": "code",
   "execution_count": 162,
   "metadata": {
    "collapsed": false
   },
   "outputs": [
    {
     "data": {
      "image/png": "[encoded data removed]",
      "text/plain": [
       "⎧                           2              ⎫\n",
       "⎪           2          Z_eso  - 2⋅Z_eso + 1⎪\n",
       "⎨l₁: - Z_eso  + 1, l₂: ────────────────────⎬\n",
       "⎪                              T_s         ⎪\n",
       "⎩                                          ⎭"
      ]
     },
     "execution_count": 162,
     "metadata": {},
     "output_type": "execute_result"
    }
   ],
   "source": [
    "s = symbols('s')\n",
    "ls = solve( (s*eye(size) - (Ad_calc - Ad_calc*Lc_calc*Cd_calc)).det() - (s - Zeso)**size , Lc_calc )\n",
    "#for key in ls.keys():\n",
    "    #ls[key] = factor(ls.get(key))\n",
    "ls"
   ]
  },
  {
   "cell_type": "code",
   "execution_count": null,
   "metadata": {
    "collapsed": true
   },
   "outputs": [],
   "source": []
  }
 ],
 "metadata": {
  "kernelspec": {
   "display_name": "Python 3",
   "language": "python",
   "name": "python3"
  },
  "language_info": {
   "codemirror_mode": {
    "name": "ipython",
    "version": 3
   },
   "file_extension": ".py",
   "mimetype": "text/x-python",
   "name": "python",
   "nbconvert_exporter": "python",
   "pygments_lexer": "ipython3",
   "version": "3.5.1"
  }
 },
 "nbformat": 4,
 "nbformat_minor": 0
}
